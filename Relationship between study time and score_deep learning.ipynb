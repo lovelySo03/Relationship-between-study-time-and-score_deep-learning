{
 "cells": [
  {
   "cell_type": "code",
   "execution_count": 11,
   "metadata": {},
   "outputs": [],
   "source": [
    "import numpy as np\n",
    "import pandas as pd"
   ]
  },
  {
   "cell_type": "code",
   "execution_count": 12,
   "metadata": {},
   "outputs": [],
   "source": [
    "#공부시간 X와 성적 Y의 리스트 만들기 \n",
    "data = [[2, 0, 81], [4, 4, 93], [6, 2, 91], [8, 3, 97]]\n",
    "x1 = [i[0] for i in data]\n",
    "x2 = [i[1] for i in data]\n",
    "y = [i[2] for i in data]"
   ]
  },
  {
   "cell_type": "code",
   "execution_count": 13,
   "metadata": {},
   "outputs": [],
   "source": [
    "import matplotlib.pyplot as plt\n",
    "from mpl_toolkits import mplot3d\n",
    "import matplotlib.font_manager   # 한글 사용을 위해서 임포트\n",
    "\n",
    "%matplotlib qt5\n",
    "\n",
    "font_path = \"C:/Windows/Fonts/Arial.TTF\"\n",
    "font_name = matplotlib.font_manager.FontProperties(fname=font_path).get_name()\n",
    "plt.rc('font', family=font_name) \n",
    "\n",
    "plt.rcParams[\"figure.figsize\"] = (10,8) # figure size 설정 \n",
    "\n",
    "# 3D그래프로 확인\n",
    "ax = plt.axes(projection='3d')\n",
    "\n",
    "# ax.set_xlabel('공부한 시간')\n",
    "# ax.set_ylabel('과외 받은 횟수')\n",
    "# ax.set_zlabel('성적')\n",
    "\n",
    "ax.set_xlabel('time')\n",
    "ax.set_ylabel('number')\n",
    "ax.set_zlabel('score')\n",
    "\n",
    "\n",
    "ax.dist = 10  # 숫자가 작으면 상대적으로 확대, 숫자가 크면 상대적으로 축소 \n",
    "\n",
    "# plt.title(\"공부한 시간과 과외 받은 횟수에 따른 성적\")\n",
    "plt.title(\"Relationship\")\n",
    "\n",
    "ax.scatter(x1, x2, y, alpha=1.0, marker='o')\n",
    "#ax.plot(x1, x2, y, alpha=1.0, marker='x')\n",
    "plt.show()"
   ]
  },
  {
   "cell_type": "code",
   "execution_count": 14,
   "metadata": {},
   "outputs": [],
   "source": [
    "#리스트로 되어 있는 x와 y값을 넘파이 배열로 바꾸기\n",
    "#인덱스를 주어 하나씩 불러와 계산이 가능해 지도록 하려고 함.\n",
    "\n",
    "x1_data = np.array(x1)\n",
    "x2_data = np.array(x2)\n",
    "y_data = np.array(y)"
   ]
  },
  {
   "cell_type": "code",
   "execution_count": 15,
   "metadata": {},
   "outputs": [
    {
     "name": "stdout",
     "output_type": "stream",
     "text": [
      "epoch=0, 기울기1=23.2000, 기울기2=10.5625, 절편=4.5250\n",
      "epoch=100, 기울기1=6.4348, 기울기2=3.9893, 절편=43.9757\n",
      "epoch=200, 기울기1=3.7255, 기울기2=3.0541, 절편=62.5766\n",
      "epoch=300, 기울기1=2.5037, 기울기2=2.6323, 절편=70.9656\n",
      "epoch=400, 기울기1=1.9527, 기울기2=2.4420, 절편=74.7491\n",
      "epoch=500, 기울기1=1.7042, 기울기2=2.3562, 절편=76.4554\n",
      "epoch=600, 기울기1=1.5921, 기울기2=2.3175, 절편=77.2250\n",
      "epoch=700, 기울기1=1.5415, 기울기2=2.3001, 절편=77.5720\n",
      "epoch=800, 기울기1=1.5187, 기울기2=2.2922, 절편=77.7286\n",
      "epoch=900, 기울기1=1.5084, 기울기2=2.2886, 절편=77.7992\n",
      "epoch=1000, 기울기1=1.5038, 기울기2=2.2870, 절편=77.8310\n",
      "epoch=1100, 기울기1=1.5017, 기울기2=2.2863, 절편=77.8453\n",
      "epoch=1200, 기울기1=1.5008, 기울기2=2.2860, 절편=77.8518\n",
      "epoch=1300, 기울기1=1.5003, 기울기2=2.2858, 절편=77.8547\n",
      "epoch=1400, 기울기1=1.5002, 기울기2=2.2858, 절편=77.8561\n",
      "epoch=1500, 기울기1=1.5001, 기울기2=2.2857, 절편=77.8567\n",
      "epoch=1600, 기울기1=1.5000, 기울기2=2.2857, 절편=77.8569\n",
      "epoch=1700, 기울기1=1.5000, 기울기2=2.2857, 절편=77.8570\n",
      "epoch=1800, 기울기1=1.5000, 기울기2=2.2857, 절편=77.8571\n",
      "epoch=1900, 기울기1=1.5000, 기울기2=2.2857, 절편=77.8571\n",
      "epoch=2000, 기울기1=1.5000, 기울기2=2.2857, 절편=77.8571\n"
     ]
    }
   ],
   "source": [
    "# 기울기 a와 절편 b의 값을 초기화 \n",
    "a1 = 0\n",
    "a2 = 0\n",
    "b = 0\n",
    "\n",
    "#학습률을 정함\n",
    "lr = 0.05\n",
    "\n",
    "#몇 번 반복될지를 설정(0부터 세므로 원하는 반복 횟수에 +1을 해주기)\n",
    "epochs = 2001 \n",
    "\n",
    "#경사 하강법 시작\n",
    "for i in range(epochs): # epoch 수 만큼 반복\n",
    "    y_pred = a1 * x1_data + a2 * x2_data + b  #y를 구하는 식을 세움\n",
    "    \n",
    "    error = y_data - y_pred  #오차를 구하는 식입니다.  (error = 실제y - 예측y)\n",
    "    \n",
    "    a1_diff = -(1/len(x1_data)) * sum(x1_data * (error)) # 오차함수를 a1로 미분\n",
    "    a2_diff = -(1/len(x2_data)) * sum(x2_data * (error)) # 오차함수를 a2로 미분\n",
    "    b_diff = -(1/len(x1_data)) * sum(y_data - y_pred)  # 오차함수를 b로 미분\n",
    "    \n",
    "    a1 = a1 - lr * a1_diff  # 학습률을 곱해 기존의 a1값을 업데이트\n",
    "    a2 = a2 - lr * a2_diff  # 학습률을 곱해 기존의 a2값을 업데이트\n",
    "    b = b - lr * b_diff  # 학습률을 곱해 기존의 b값을 업데이트\n",
    "    \n",
    "    if i % 100 == 0:    # 100번 반복될 때마다 현재의 a1, a2, b값을 출력\n",
    "        print(\"epoch=%.f, 기울기1=%.04f, 기울기2=%.04f, 절편=%.04f\" % (i, a1, a2, b))"
   ]
  },
  {
   "cell_type": "code",
   "execution_count": 17,
   "metadata": {},
   "outputs": [],
   "source": [
    "ax = plt.axes(projection='3d')\n",
    "\n",
    "# ax.set_xlabel('공부한 시간')\n",
    "# ax.set_ylabel('과외 받은 횟수')\n",
    "# ax.set_zlabel('성적')\n",
    "\n",
    "\n",
    "ax.set_xlabel('time')\n",
    "ax.set_ylabel('number')\n",
    "ax.set_zlabel('score')\n",
    "\n",
    "ax.dist = 10  # 숫자가 작으면 상대적으로 확대, 숫자가 크면 상대적으로 축소 \n",
    "\n",
    "# plt.title(\"공부한 시간과 과외 받은 횟수에 따른 성적\")\n",
    "plt.title(\"Relationship\")\n",
    "\n",
    "\n",
    "#ax.scatter(x1, x2, y_data, alpha=1.0,  marker=\"x\" )\n",
    "#ax.scatter(x1, x2, y_pred, alpha=1.0,  marker=\"o\")\n",
    "\n",
    "ax.plot(x1, x2, y_data, alpha=1.0,  marker=\"x\" )\n",
    "ax.plot(x1, x2, y_pred, alpha=1.0,  marker=\"o\")\n",
    "plt.show()"
   ]
  },
  {
   "cell_type": "code",
   "execution_count": null,
   "metadata": {},
   "outputs": [],
   "source": []
  },
  {
   "cell_type": "code",
   "execution_count": null,
   "metadata": {},
   "outputs": [],
   "source": []
  }
 ],
 "metadata": {
  "kernelspec": {
   "display_name": "Python 3",
   "language": "python",
   "name": "python3"
  },
  "language_info": {
   "codemirror_mode": {
    "name": "ipython",
    "version": 3
   },
   "file_extension": ".py",
   "mimetype": "text/x-python",
   "name": "python",
   "nbconvert_exporter": "python",
   "pygments_lexer": "ipython3",
   "version": "3.8.8"
  }
 },
 "nbformat": 4,
 "nbformat_minor": 4
}
